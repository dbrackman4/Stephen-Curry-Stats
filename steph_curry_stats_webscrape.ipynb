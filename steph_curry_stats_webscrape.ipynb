{
 "cells": [
  {
   "cell_type": "code",
   "execution_count": 3,
   "metadata": {},
   "outputs": [],
   "source": [
    "import pandas as pd # type: ignore\n",
    "import requests # type: ignore\n",
    "from bs4 import BeautifulSoup # type: ignore"
   ]
  },
  {
   "cell_type": "code",
   "execution_count": 4,
   "metadata": {},
   "outputs": [],
   "source": [
    "years = range(2010, 2025)\n",
    "dfs = []\n",
    "for year in years:\n",
    "\n",
    "    url = f'https://www.basketball-reference.com/players/c/curryst01/gamelog/{year}'\n",
    "    page = requests.get(url)\n",
    "    soup = BeautifulSoup(page.text, features = 'html.parser')\n",
    "\n",
    "    table = soup.find_all('table')[7]\n",
    "\n",
    "    header_row = table.find('thead')\n",
    "    column_titles = header_row.find_all('th')\n",
    "\n",
    "    column_titles_cleaned = [title.text for title in column_titles]\n",
    "\n",
    "    column_titles_cleaned.pop(0)\n",
    "    column_titles_cleaned[4] = 'Loc'\n",
    "    column_titles_cleaned[6] = 'PointSpread'\n",
    "    # column_titles_cleaned.append(\"Season\")  #changed\n",
    "\n",
    "    df = pd.DataFrame(columns = column_titles_cleaned)\n",
    "\n",
    "    body = table.find('tbody')\n",
    "    body_data = body.find_all('tr')\n",
    "    for row in body_data:\n",
    "        row_data = row.find_all('td')\n",
    "        individual_row_data = [data.text.strip() for data in row_data]\n",
    "        if len(individual_row_data) != 0 and individual_row_data[0] != '':    #filters out the rows of repeat column header info and the games steph didn't play\n",
    "            df.loc[len(df)] = individual_row_data\n",
    "    df.insert(1, \"Season\", [year] * len(df))\n",
    "\n",
    "    df.replace('', pd.NA, inplace=True)\n",
    "    dfs.append(df)\n",
    "    df.to_csv(rf'C:\\Users\\Drew Brackman\\Documents\\Portfolio\\Stephen Curry Stats\\curry{year}.csv')"
   ]
  },
  {
   "cell_type": "code",
   "execution_count": 5,
   "metadata": {},
   "outputs": [],
   "source": [
    "merged_df = pd.concat((df for df in dfs), ignore_index= True)\n",
    "merged_df.to_csv(r'C:\\Users\\Drew Brackman\\Documents\\Portfolio\\Stephen Curry Stats\\currycareer.csv')"
   ]
  },
  {
   "cell_type": "code",
   "execution_count": 30,
   "metadata": {},
   "outputs": [],
   "source": [
    "from matplotlib import pyplot as plt\n",
    "\n",
    "\n",
    "# plt.scatter(merged_df.G, merged_df.PTS)\n",
    "# plt.show()\n",
    "# \n",
    "fifty_plus_games = merged_df[pd.to_numeric(merged_df.PTS) >= 50]\n",
    "fifty_plus_games"
   ]
  },
  {
   "cell_type": "code",
   "execution_count": null,
   "metadata": {},
   "outputs": [],
   "source": []
  }
 ],
 "metadata": {
  "kernelspec": {
   "display_name": "Python 3",
   "language": "python",
   "name": "python3"
  },
  "language_info": {
   "codemirror_mode": {
    "name": "ipython",
    "version": 3
   },
   "file_extension": ".py",
   "mimetype": "text/x-python",
   "name": "python",
   "nbconvert_exporter": "python",
   "pygments_lexer": "ipython3",
   "version": "3.12.3"
  }
 },
 "nbformat": 4,
 "nbformat_minor": 2
}
